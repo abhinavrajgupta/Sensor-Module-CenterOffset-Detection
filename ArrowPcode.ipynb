{
 "cells": [
  {
   "cell_type": "markdown",
   "id": "1fc0b53d",
   "metadata": {},
   "source": [
    "### Importing necessary libraries"
   ]
  },
  {
   "cell_type": "code",
   "execution_count": null,
   "id": "afc6c0d4",
   "metadata": {},
   "outputs": [],
   "source": [
    "import os"
   ]
  },
  {
   "cell_type": "code",
   "execution_count": null,
   "id": "british-algeria",
   "metadata": {},
   "outputs": [],
   "source": [
    "import numpy as np"
   ]
  },
  {
   "cell_type": "code",
   "execution_count": null,
   "id": "aware-lying",
   "metadata": {},
   "outputs": [],
   "source": [
    "import glob\n",
    "import math\n",
    "import matplotlib.pyplot as plt\n",
    "import matplotlib.image as mpimg\n",
    "import os\n",
    "import tensorflow\n",
    "import seaborn as sns\n",
    "import cv2\n",
    "import imutils\n",
    "from math import dist\n",
    "import pandas as pd\n",
    "%matplotlib inline"
   ]
  },
  {
   "cell_type": "code",
   "execution_count": null,
   "id": "certified-program",
   "metadata": {},
   "outputs": [],
   "source": [
    "os.environ[\"CUDA_DEVICE_ORDER\"]=\"PCI_BUS_ID\"\n",
    "os.environ[\"CUDA_VISIBLE_DEVICES\"]=\"0\""
   ]
  },
  {
   "cell_type": "markdown",
   "id": "aefb2b61",
   "metadata": {},
   "source": [
    "### Change the location to the directory where you cloned yolov5 originally\n",
    "Link to clone Yolov5 repository: https://github.com/ultralytics/yolov5"
   ]
  },
  {
   "cell_type": "code",
   "execution_count": null,
   "id": "5154cffe",
   "metadata": {},
   "outputs": [],
   "source": [
    "cd /home/abhinav/newyolo/yolov5/"
   ]
  },
  {
   "cell_type": "markdown",
   "id": "0609d110",
   "metadata": {},
   "source": [
    "### Running best trained YOLOv5 detection of center on images in image directory \"/home/abhinav/M35/\", saving results and detection coordinates in \"/home/abhinav/M35/Results\""
   ]
  },
  {
   "cell_type": "code",
   "execution_count": null,
   "id": "51a80d4f",
   "metadata": {},
   "outputs": [],
   "source": [
    "!python detect.py --weights /homeHDD/pgc/yolov5_center/yolov5/runs/train/exp31/weights/best.pt --img 640 --conf 0.6 --source /home/abhinav/M35/ --project /home/abhinav/M35/ --name Results --save-txt\n",
    "#2 changes to be made: Change the path to source folder where images are stored, and other path to save the results(most preferably in same folder)"
   ]
  },
  {
   "cell_type": "code",
   "execution_count": null,
   "id": "orange-qatar",
   "metadata": {},
   "outputs": [],
   "source": [
    "os.chdir(\"/home/abhinav/M35/Results/\") #Change the path to where the results of previous code were saved"
   ]
  },
  {
   "cell_type": "markdown",
   "id": "ed267a46",
   "metadata": {},
   "source": [
    "### The results file include text files for co-ordinates of center for each image. Marking those Co-ordinates in the original images"
   ]
  },
  {
   "cell_type": "code",
   "execution_count": null,
   "id": "strategic-cross",
   "metadata": {},
   "outputs": [],
   "source": [
    "dict1={}\n",
    "for name in os.listdir():\n",
    "    if \".jpg\" in name:\n",
    "        try:\n",
    "            mask = cv2.imread(name)\n",
    "            (h, w) = mask.shape[:2]\n",
    "            txtname=name.split('.jpg')[0]+\".txt\"\n",
    "            filename=open(\"./labels/\"+txtname,'r')\n",
    "            lines=filename.readlines()\n",
    "            (x,y)=((lines[0].split(\" \"))[1],(lines[0].split(\" \"))[2])\n",
    "            point=(int(float(x)*w),int(float(y)*h))\n",
    "            dict1[name]=[point[0],point[1]]\n",
    "            cv2.circle(mask, point, 7, (255, 0, 0), -1)\n",
    "            cv2.imwrite(name,mask)\n",
    "            img_orig = cv2.cvtColor(mask, cv2.COLOR_BGR2RGB)\n",
    "            plt.imshow(img_orig)\n",
    "            plt.show()\n",
    "        except:\n",
    "            pass"
   ]
  },
  {
   "cell_type": "code",
   "execution_count": null,
   "id": "bbbde465",
   "metadata": {},
   "outputs": [],
   "source": [
    "os.chdir(\"/home/abhinav/M35/Results/\") #Change the path to the folder of images"
   ]
  },
  {
   "cell_type": "markdown",
   "id": "80e12a34",
   "metadata": {},
   "source": [
    "### Using HoughCircles to draw a circle present in each image and determine the actual center, and print out the distance of the co-ordinates found for center using HoughCircle and co-ordinates of circle determined by ML module in previous lines of code"
   ]
  },
  {
   "cell_type": "code",
   "execution_count": null,
   "id": "northern-india",
   "metadata": {},
   "outputs": [],
   "source": [
    "dict2={}\n",
    "\n",
    "output_name = []\n",
    "output_distance = []\n",
    "image_offset_notfound=[]\n",
    "radius=[]\n",
    "\n",
    "output_dir = \"offset_result_contors\"\n",
    "if not os.path.exists(output_dir):\n",
    "    os.makedirs(output_dir)\n",
    "    \n",
    "for name in os.listdir():\n",
    "    if \".jpg\" in name:\n",
    "            mask = cv2.imread(name)\n",
    "            gray = cv2.cvtColor(mask, cv2.COLOR_BGR2GRAY)\n",
    "            blurred = cv2.medianBlur(gray, 5)\n",
    "            circles = cv2.HoughCircles(blurred, cv2.HOUGH_GRADIENT, 1, 150, param1=100, param2=50, minRadius=90, maxRadius=110)\n",
    "            if circles is not None:\n",
    "                detected_circles = np.uint16(np.around(circles))\n",
    "                for (x,y,r) in detected_circles[0,:]:\n",
    "                    cv2.circle(mask, (x,y), r, (0,255,0), 3)\n",
    "                    cv2.circle(mask, (x,y), 3, (0,255,0), 5)\n",
    "                    print(\"Center (x,y): ({}, {}) radius: {}\".format(x,y,r))\n",
    "                    dict2[name]=[[x,y],r]\n",
    "            dist_value=\"Not found\"\n",
    "            try:\n",
    "                dist_value=dist(dict1[name],dict2[name][0])\n",
    "            except:\n",
    "                pass\n",
    "            img_orig = cv2.cvtColor(mask, cv2.COLOR_BGR2RGB)\n",
    "            plt.title(\"Distance: \"+str(dist_value))\n",
    "            print(\"{}:    {}\".format(name, dist_value))\n",
    "            if type(dist_value)==float:\n",
    "                output_name.append(name)\n",
    "                output_distance.append(dist_value)\n",
    "                radius.append(r)\n",
    "            else:\n",
    "                image_offset_notfound.append(name)\n",
    "            plt.imshow(img_orig)\n",
    "            plt.savefig(f\"offset_result_contors/M35_{name}.pdf\")\n",
    "            plt.show()\n",
    "                \n",
    "                \n",
    "\n",
    "print(np.mean(radius))\n",
    "#print(np.mean(dist_value))"
   ]
  },
  {
   "cell_type": "code",
   "execution_count": null,
   "id": "d105f785",
   "metadata": {},
   "outputs": [],
   "source": [
    "### Filtering dataset of both the dictionaries and making sure they have same images and labels"
   ]
  },
  {
   "cell_type": "code",
   "execution_count": null,
   "id": "83a9e31b",
   "metadata": {},
   "outputs": [],
   "source": [
    "keys_to_drop=[]\n",
    "for key in dict2:\n",
    "    if key not in dict1:\n",
    "        keys_to_drop.append(key)\n",
    "keys_to_drop\n",
    "for key in keys_to_drop:\n",
    "    if key in dict2:\n",
    "        del dict2[key]\n",
    "len(dict2)"
   ]
  },
  {
   "cell_type": "code",
   "execution_count": null,
   "id": "a72da989",
   "metadata": {},
   "outputs": [],
   "source": [
    "keys_to_drop=[]\n",
    "for key in dict1:\n",
    "    if key not in dict2:\n",
    "        keys_to_drop.append(key)\n",
    "keys_to_drop\n",
    "for key in keys_to_drop:\n",
    "    if key in dict1:\n",
    "        del dict1[key]\n",
    "len(dict1)"
   ]
  },
  {
   "cell_type": "code",
   "execution_count": null,
   "id": "be69fccd",
   "metadata": {},
   "outputs": [],
   "source": [
    "dict1_list=list(dict1.values())\n",
    "X2=[] #Xvalues_dict1=X2\n",
    "for values in dict1_list:\n",
    "    X2.append(values[0])\n",
    "print(X2)"
   ]
  },
  {
   "cell_type": "code",
   "execution_count": null,
   "id": "0d07d4c0",
   "metadata": {},
   "outputs": [],
   "source": [
    "dict1_list=list(dict1.values())\n",
    "Y2=[]\n",
    "for values in dict1_list:\n",
    "    Y2.append(values[1])\n",
    "print(Y2)"
   ]
  },
  {
   "cell_type": "code",
   "execution_count": null,
   "id": "96647701",
   "metadata": {},
   "outputs": [],
   "source": [
    "dict2_list=list(dict2.values())\n",
    "Y1=[]\n",
    "for values in dict2_list:\n",
    "    Y1.append(values[0][1])\n",
    "print(Y1)"
   ]
  },
  {
   "cell_type": "code",
   "execution_count": null,
   "id": "9ebcb3ec",
   "metadata": {},
   "outputs": [],
   "source": [
    "dict2_list=list(dict2.values())\n",
    "X1=[]\n",
    "for values in dict2_list:\n",
    "    X1.append(values[0][0])\n",
    "print(X1)"
   ]
  },
  {
   "cell_type": "markdown",
   "id": "cc2b2e1b",
   "metadata": {},
   "source": [
    "### Calculating average offset, X-displacement, and Y-displacement"
   ]
  },
  {
   "cell_type": "code",
   "execution_count": null,
   "id": "b2fa8365",
   "metadata": {},
   "outputs": [],
   "source": [
    "changeinx=[]\n",
    "changeiny=[]\n",
    "r=[]\n",
    "for x1, y1, x2, y2 in zip(X1,Y1,X2,Y2):\n",
    "    delta_x = x2 - x1\n",
    "    delta_y = y2 - y1\n",
    "    distance= math.sqrt(delta_x**2 + delta_y**2)\n",
    "    changeinx.append(delta_x)\n",
    "    changeiny.append(delta_y)\n",
    "    r.append(distance)\n",
    "\n",
    "print(np.mean(r))\n",
    "print(np.mean(changeinx))\n",
    "print(np.mean(changeiny))"
   ]
  },
  {
   "cell_type": "markdown",
   "id": "af110227",
   "metadata": {},
   "source": [
    "### Calculating average andgle of disoreintation of offsets with reference to center drawn using HoughCircle"
   ]
  },
  {
   "cell_type": "code",
   "execution_count": null,
   "id": "e25bc302",
   "metadata": {},
   "outputs": [],
   "source": [
    "angles=[]\n",
    "for delta_x,delta_y in zip(changeinx,changeiny):\n",
    "    angle_in_radians = math.atan2(delta_y, delta_x)\n",
    "    angle_in_degrees = math.degrees(angle_in_radians)\n",
    "    angles.append(angle_in_degrees)\n",
    "print(-np.mean(angles))"
   ]
  },
  {
   "cell_type": "code",
   "execution_count": null,
   "id": "a33a2899",
   "metadata": {},
   "outputs": [],
   "source": [
    "Images=[]\n",
    "for key in dict2:\n",
    "    Images.append(key)\n",
    "df1=pd.DataFrame({\"Images\":Images,\"X1\":X1,\"Y1\":Y1,\"X2\":X2,\"Y2\":Y2,\"Delta_X\":changeinx,\"Delta_Y\":changeiny,\"r\":r,\"Angles\":angles})\n",
    "df1"
   ]
  },
  {
   "cell_type": "code",
   "execution_count": null,
   "id": "2cc77a8c",
   "metadata": {},
   "outputs": [],
   "source": [
    "df2=df1.copy()\n",
    "df2['ImageNumber']=df2['Images'].str.extract('(\\d+)').astype(int)\n",
    "\\df2=df2.sort_values(by='ImageNumber')\n",
    "df3=df2.copy()\n",
    "df3=df3.reset_index(drop=True)\n",
    "df2=df2.drop(columns=['ImageNumber'])\n",
    "df2=df2.reset_index(drop=True)"
   ]
  },
  {
   "cell_type": "code",
   "execution_count": null,
   "id": "df92464e",
   "metadata": {},
   "outputs": [],
   "source": [
    "os.chdir(\"/home/abhinav/M35/\") #Change the pathe here\n",
    "dict3={}\n",
    "for name in os.listdir():\n",
    "    if \".txt\" in name:\n",
    "        filename=open(name,'r')\n",
    "        lines=filename.readlines()\n",
    "        (x,y)=((lines[0].split(\",\")[0]),(lines[0].split(\",\")[1]))\n",
    "        point=(float(x),float(y))\n",
    "        dict3[name]=[point[0],point[1]]\n",
    "type(list(dict3.keys()))"
   ]
  },
  {
   "cell_type": "code",
   "execution_count": null,
   "id": "05e9b17f",
   "metadata": {},
   "outputs": [],
   "source": [
    "x=[]\n",
    "y=[]\n",
    "for values in list(dict3.values()):\n",
    "    xvalue=values[0]\n",
    "    yvalue=values[1]\n",
    "    x.append(xvalue)\n",
    "    y.append(yvalue)"
   ]
  },
  {
   "cell_type": "code",
   "execution_count": null,
   "id": "bc940543",
   "metadata": {},
   "outputs": [],
   "source": [
    "df4=pd.DataFrame({\"Images\":list(dict3.keys()),\"X\":x,\"Y\":y,})\n",
    "df4['ImageNumber']=df4['Images'].str.extract('(\\d+)').astype(int)\n",
    "df4_sorted=df4.sort_values(by='ImageNumber')\n",
    "df4_sorted=df4_sorted[df4_sorted['ImageNumber'].isin(df3['ImageNumber'])]\n",
    "df4_sorted=df4_sorted.drop(columns=[\"ImageNumber\"])\n",
    "df4_sorted[\"Angles\"]=df2[\"Angles\"].values\n",
    "df4_sorted = df4_sorted.reset_index(drop=True)"
   ]
  },
  {
   "cell_type": "code",
   "execution_count": null,
   "id": "19fdaca1",
   "metadata": {},
   "outputs": [],
   "source": [
    "finaldf=df4_sorted.copy()\n",
    "finaldf[\"X1(Green dot in Pixels)\"]=df2[\"X1\"]\n",
    "finaldf[\"X2(Blue dot in pixels)\"]=df2[\"X2\"]\n",
    "finaldf[\"Y1(Green dot in pixels)\"]=df2[\"Y1\"]\n",
    "finaldf[\"Y2(Blue dot in pixels)\"]=df2[\"Y2\"]\n",
    "finaldf[\"Delta_x\"]=df2[\"Delta_X\"]\n",
    "finaldf[\"Delta_y\"]=df2[\"Delta_Y\"]\n",
    "finaldf[\"r\"]=df2[\"r\"]\n",
    "finaldf\n"
   ]
  },
  {
   "cell_type": "code",
   "execution_count": null,
   "id": "f98a9e4f",
   "metadata": {},
   "outputs": [],
   "source": [
    "x=np.array(finaldf['X'])\n",
    "y=np.array(finaldf['Y'])\n",
    "angles=np.array(finaldf['Angles'])\n",
    "r=np.array(finaldf['r'])\n",
    "print(np.mean(r))"
   ]
  },
  {
   "cell_type": "code",
   "execution_count": null,
   "id": "b7606333",
   "metadata": {},
   "outputs": [],
   "source": [
    "### Drawing arrowplots for the offset"
   ]
  },
  {
   "cell_type": "code",
   "execution_count": null,
   "id": "3c88ab14",
   "metadata": {},
   "outputs": [],
   "source": [
    "fig, ax = plt.subplots()\n",
    "\n",
    "U = [r_value * math.cos(math.radians(-angle)) for angle,r_value in zip(angles, r)]\n",
    "V = [r_value * math.sin(math.radians(-angle)) for angle,r_value in zip(angles,r)]\n",
    "\n",
    "for i in range(len(U)):\n",
    "    ax.quiver(x[i], y[i], U[i], V[i], scale=110 , color='b', width=0.008)\n",
    "\n",
    "    \n",
    "for i, label in enumerate(df3['ImageNumber']):\n",
    "        plt.annotate(label, (x[i], y[i]),color='red', weight='bold', ha='center')\n",
    "ax.set_xlim(-60,150)\n",
    "ax.set_ylim(-20,240)\n",
    "ax.set_xticks([])\n",
    "ax.set_yticks([])\n",
    "\n",
    "# Find the index for image with largest offset as reference\n",
    "reference_arrow = finaldf[finaldf['r']== finaldf['r'].max()].index[0]\n",
    "\n",
    "# Calculate arrow length for image with largest offset\n",
    "arrow_length = math.sqrt(U[reference_arrow]**2 + V[reference_arrow]**2)\n",
    "\n",
    "ax.quiver(x[reference_arrow], y[reference_arrow], U[reference_arrow], V[reference_arrow], scale=110, color='g', width=0.008)\n",
    "\n",
    "bottom_left_x, bottom_left_y = -40, 180  # Adjust these as needed\n",
    "ax.quiver(bottom_left_x, bottom_left_y, arrow_length, 0, scale=110, color='g', width=0.008)\n",
    "\n",
    "plt.annotate(f'Length: {(arrow_length)*2/103:.2f}mm', (bottom_left_x + arrow_length, bottom_left_y+5), color='red', fontsize=8, weight='bold',ha='center')\n",
    "\n",
    "ax.set_title('Combined Arrowplots')\n",
    "ax.grid(True)\n",
    "plt.tight_layout()\n",
    "\n"
   ]
  },
  {
   "cell_type": "code",
   "execution_count": null,
   "id": "e22cd6cb",
   "metadata": {},
   "outputs": [],
   "source": []
  }
 ],
 "metadata": {
  "kernelspec": {
   "display_name": "Python 3 (ipykernel)",
   "language": "python",
   "name": "python3"
  },
  "language_info": {
   "codemirror_mode": {
    "name": "ipython",
    "version": 3
   },
   "file_extension": ".py",
   "mimetype": "text/x-python",
   "name": "python",
   "nbconvert_exporter": "python",
   "pygments_lexer": "ipython3",
   "version": "3.9.16"
  }
 },
 "nbformat": 4,
 "nbformat_minor": 5
}
